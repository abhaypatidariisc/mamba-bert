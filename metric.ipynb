{
 "cells": [
  {
   "cell_type": "code",
   "execution_count": null,
   "metadata": {},
   "outputs": [],
   "source": [
    "from transformers import AutoTokenizer, AutoModelForCausalLM\n",
    "from datasets import load_metric, load_dataset\n",
    "import torch\n",
    "\n",
    "# Load the trained model and tokenizer\n",
    "model_path = \"./fine_tuned_lora_model_summary\"  # Replace with your model path\n",
    "tokenizer_path = \"./fine_tuned_lora_tokenizer_summary\"  # Replace with your tokenizer path\n",
    "model = AutoModelForCausalLM.from_pretrained(model_path).cuda()\n",
    "tokenizer = AutoTokenizer.from_pretrained(tokenizer_path)\n",
    "\n",
    "# Load the dataset\n",
    "dataset = load_dataset(\"cnn_dailymail\", \"3.0.0\", split=\"test[:500]\")  # Use a subset for faster evaluation\n",
    "\n",
    "# Metrics\n",
    "rouge = load_metric(\"rouge\")"
   ]
  },
  {
   "cell_type": "code",
   "execution_count": null,
   "metadata": {},
   "outputs": [],
   "source": [
    "from nltk.translate.bleu_score import sentence_bleu\n",
    "# Function to generate summaries\n",
    "def generate_summary(input_text, max_length=128, min_length=30):\n",
    "    inputs = tokenizer.encode(input_text, return_tensors=\"pt\", truncation=True, max_length=512).cuda()\n",
    "    outputs = model.generate(\n",
    "        inputs, max_length=max_length, min_length=min_length, length_penalty=2.0, num_beams=4\n",
    "    )\n",
    "    return tokenizer.decode(outputs[0], skip_special_tokens=True)"
   ]
  },
  {
   "cell_type": "code",
   "execution_count": null,
   "metadata": {},
   "outputs": [],
   "source": [
    "# Evaluation\n",
    "rouge_scores = []\n",
    "bleu_scores = []\n",
    "\n",
    "print(\"Evaluating the model...\")\n",
    "for data in dataset:\n",
    "    article = data[\"article\"]\n",
    "    reference_summary = data[\"highlights\"]\n",
    "\n",
    "    # Generate the summary\n",
    "    generated_summary = generate_summary(article)\n",
    "\n",
    "    # Calculate ROUGE scores\n",
    "    rouge_result = rouge.compute(\n",
    "        predictions=[generated_summary],\n",
    "        references=[reference_summary]\n",
    "    )\n",
    "    rouge_scores.append(rouge_result)\n",
    "\n",
    "    # Calculate BLEU score\n",
    "    reference_tokens = [reference_summary.split()]\n",
    "    generated_tokens = generated_summary.split()\n",
    "    bleu_score = sentence_bleu(reference_tokens, generated_tokens)\n",
    "    bleu_scores.append(bleu_score)"
   ]
  },
  {
   "cell_type": "code",
   "execution_count": null,
   "metadata": {},
   "outputs": [],
   "source": [
    "\n",
    "# Calculate average scores\n",
    "average_rouge = {\n",
    "    key: sum(score[key].mid.fmeasure for score in rouge_scores) / len(rouge_scores)\n",
    "    for key in rouge_scores[0]\n",
    "}\n",
    "average_bleu = sum(bleu_scores) / len(bleu_scores)\n",
    "\n",
    "# Display results\n",
    "print(\"\\nAverage ROUGE Scores:\")\n",
    "for key, value in average_rouge.items():\n",
    "    print(f\"{key.upper()}: {value:.4f}\")\n",
    "\n",
    "print(f\"\\nAverage BLEU Score: {average_bleu:.4f}\")"
   ]
  }
 ],
 "metadata": {
  "kernelspec": {
   "display_name": "mamba",
   "language": "python",
   "name": "python3"
  },
  "language_info": {
   "name": "python",
   "version": "3.13.0"
  }
 },
 "nbformat": 4,
 "nbformat_minor": 2
}
